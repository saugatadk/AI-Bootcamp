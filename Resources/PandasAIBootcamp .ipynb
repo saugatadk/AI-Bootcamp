{
 "cells": [
  {
   "cell_type": "markdown",
   "metadata": {
    "id": "A18BEV26UFjW"
   },
   "source": [
    "# Table of Contents:\n",
    "# 1. Introduction to Pandas\n",
    "# 2. Creating Series and DataFrames\n",
    "# 3. Loading and Exploring Data\n",
    "# 4. Data Selection and Indexing\n",
    "# 5. Data Cleaning and Handling Missing Values\n",
    "# 6. Data Filtering and Querying\n",
    "# 7. Data Aggregation and Grouping\n",
    "# 8. Data Merging and Joining\n",
    "# 9. Pivot Tables and Reshaping\n",
    "# 10. Advanced Operations"
   ]
  },
  {
   "cell_type": "code",
   "execution_count": 48,
   "metadata": {
    "colab": {
     "base_uri": "https://localhost:8080/"
    },
    "id": "CSyO6snrTrX-",
    "outputId": "eb49a941-7520-4689-c0c6-dd085bec00a9"
   },
   "outputs": [
    {
     "name": "stdout",
     "output_type": "stream",
     "text": [
      "Pandas version: 2.2.3\n"
     ]
    }
   ],
   "source": [
    "import pandas as pd\n",
    "import numpy as np\n",
    "print(\"Pandas version:\", pd.__version__)"
   ]
  },
  {
   "cell_type": "markdown",
   "metadata": {
    "id": "y1QOi-9AT6_H"
   },
   "source": [
    "# ===========================================================\n",
    "# 1. INTRODUCTION TO PANDAS\n",
    "# ===========================================================\n",
    "\n",
    "\n",
    "Pandas is a powerful data manipulation and analysis library for Python.\n",
    "It provides two main data structures:\n",
    "- Series: 1-dimensional labeled array\n",
    "- DataFrame: 2-dimensional labeled data structure (like a spreadsheet)\n",
    "\n",
    "Key Features:\n",
    "- Easy handling of missing data\n",
    "- Data alignment and merging\n",
    "- Flexible reshaping and pivoting\n",
    "- Powerful grouping functionality\n",
    "- Time series functionality\n"
   ]
  },
  {
   "cell_type": "markdown",
   "metadata": {
    "id": "VpdrggwmUVWv"
   },
   "source": [
    "# =================================================================\n",
    "# 2. CREATING SERIES AND DATAFRAMES\n",
    "# ================================================================="
   ]
  },
  {
   "cell_type": "code",
   "execution_count": 49,
   "metadata": {
    "colab": {
     "base_uri": "https://localhost:8080/"
    },
    "id": "BTNcALDcUT_r",
    "outputId": "80f85686-c764-4ca3-a68c-43ff1e707604"
   },
   "outputs": [
    {
     "name": "stdout",
     "output_type": "stream",
     "text": [
      "============================================================\n",
      "2. CREATING SERIES AND DATAFRAMES\n",
      "============================================================\n",
      "\n",
      "2.1 Creating Series:\n",
      "------------------------------\n",
      "Series from list:\n",
      "0    25\n",
      "1    30\n",
      "2    35\n",
      "3    28\n",
      "4    45\n",
      "Name: Age, dtype: int64\n",
      "\n",
      "Series from dictionary:\n",
      "Alice      25\n",
      "Bob        30\n",
      "Charlie    35\n",
      "Diana      28\n",
      "dtype: int64\n",
      "\n",
      "Series shape: (5,)\n",
      "Series dtype: int64\n",
      "Series index: [0, 1, 2, 3, 4]\n",
      "Series values: [25 30 35 28 45]\n"
     ]
    }
   ],
   "source": [
    "print(\"=\"*60)\n",
    "print(\"2. CREATING SERIES AND DATAFRAMES\")\n",
    "print(\"=\"*60)\n",
    "\n",
    "# Creating a Series\n",
    "print(\"\\n2.1 Creating Series:\")\n",
    "print(\"-\" * 30)\n",
    "\n",
    "# From a list\n",
    "ages = pd.Series([25, 30, 35, 28, 45], name='Age')\n",
    "print(\"Series from list:\")\n",
    "print(ages)\n",
    "\n",
    "# From a dictionary\n",
    "person_ages = pd.Series({'Alice': 25, 'Bob': 30, 'Charlie': 35, 'Diana': 28})\n",
    "print(\"\\nSeries from dictionary:\")\n",
    "print(person_ages)\n",
    "\n",
    "# Series attributes\n",
    "print(f\"\\nSeries shape: {ages.shape}\")\n",
    "print(f\"Series dtype: {ages.dtype}\")\n",
    "print(f\"Series index: {ages.index.tolist()}\")\n",
    "print(f\"Series values: {ages.values}\")"
   ]
  },
  {
   "cell_type": "code",
   "execution_count": 3,
   "metadata": {
    "colab": {
     "base_uri": "https://localhost:8080/"
    },
    "id": "jxdtOvNeU-fb",
    "outputId": "bee52697-c832-4b23-850a-bb43c4a18cf4"
   },
   "outputs": [
    {
     "name": "stdout",
     "output_type": "stream",
     "text": [
      "\n",
      "2.2 Creating DataFrames:\n",
      "------------------------------\n",
      "DataFrame from dictionary:\n",
      "      Name  Age      City  Salary\n",
      "0    Alice   25  New York   50000\n",
      "1      Bob   30    London   60000\n",
      "2  Charlie   35     Paris   75000\n",
      "3    Diana   28     Tokyo   55000\n",
      "4      Eve   45    Sydney   80000\n",
      "\n",
      "DataFrame from lists:\n",
      "      Name  Age\n",
      "0    Alice   25\n",
      "1      Bob   30\n",
      "2  Charlie   35\n",
      "\n",
      "DataFrame shape: (5, 4)\n",
      "DataFrame columns: ['Name', 'Age', 'City', 'Salary']\n",
      "DataFrame index: [0, 1, 2, 3, 4]\n",
      "DataFrame dtypes:\n",
      "Name      object\n",
      "Age        int64\n",
      "City      object\n",
      "Salary     int64\n",
      "dtype: object\n"
     ]
    }
   ],
   "source": [
    "# Creating a DataFrame\n",
    "print(\"\\n2.2 Creating DataFrames:\")\n",
    "print(\"-\" * 30)\n",
    "\n",
    "# From a dictionary\n",
    "data_dict = {\n",
    "    'Name': ['Alice', 'Bob', 'Charlie', 'Diana', 'Eve'],\n",
    "    'Age': [25, 30, 35, 28, 45],\n",
    "    'City': ['New York', 'London', 'Paris', 'Tokyo', 'Sydney'],\n",
    "    'Salary': [50000, 60000, 75000, 55000, 80000]\n",
    "}\n",
    "\n",
    "df_sample = pd.DataFrame(data_dict)\n",
    "print(\"DataFrame from dictionary:\")\n",
    "print(df_sample)\n",
    "\n",
    "# From lists\n",
    "names = ['Alice', 'Bob', 'Charlie']\n",
    "ages = [25, 30, 35]\n",
    "df_from_lists = pd.DataFrame({'Name': names, 'Age': ages})\n",
    "print(\"\\nDataFrame from lists:\")\n",
    "print(df_from_lists)\n",
    "\n",
    "# DataFrame attributes\n",
    "print(f\"\\nDataFrame shape: {df_sample.shape}\")\n",
    "print(f\"DataFrame columns: {df_sample.columns.tolist()}\")\n",
    "print(f\"DataFrame index: {df_sample.index.tolist()}\")\n",
    "print(f\"DataFrame dtypes:\\n{df_sample.dtypes}\")"
   ]
  },
  {
   "cell_type": "markdown",
   "metadata": {
    "id": "pOf_hKUwWUay"
   },
   "source": [
    "# =======================================\n",
    "# 3. LOADING AND EXPLORING DATA\n",
    "# =======================================\n",
    "\n"
   ]
  },
  {
   "cell_type": "code",
   "execution_count": 4,
   "metadata": {
    "id": "KOWIFrlhXREL"
   },
   "outputs": [],
   "source": [
    "# Load the Titanic dataset\n",
    "titanic=pd.read_csv('Titanic-Dataset.csv')"
   ]
  },
  {
   "cell_type": "code",
   "execution_count": 5,
   "metadata": {
    "colab": {
     "base_uri": "https://localhost:8080/",
     "height": 947
    },
    "id": "dqvV_hSyX8Vz",
    "outputId": "185cbed4-9c47-4ff0-9d6f-3e73bace4ce7"
   },
   "outputs": [
    {
     "data": {
      "text/html": [
       "<div>\n",
       "<style scoped>\n",
       "    .dataframe tbody tr th:only-of-type {\n",
       "        vertical-align: middle;\n",
       "    }\n",
       "\n",
       "    .dataframe tbody tr th {\n",
       "        vertical-align: top;\n",
       "    }\n",
       "\n",
       "    .dataframe thead th {\n",
       "        text-align: right;\n",
       "    }\n",
       "</style>\n",
       "<table border=\"1\" class=\"dataframe\">\n",
       "  <thead>\n",
       "    <tr style=\"text-align: right;\">\n",
       "      <th></th>\n",
       "      <th>PassengerId</th>\n",
       "      <th>Survived</th>\n",
       "      <th>Pclass</th>\n",
       "      <th>Name</th>\n",
       "      <th>Sex</th>\n",
       "      <th>Age</th>\n",
       "      <th>SibSp</th>\n",
       "      <th>Parch</th>\n",
       "      <th>Ticket</th>\n",
       "      <th>Fare</th>\n",
       "      <th>Cabin</th>\n",
       "      <th>Embarked</th>\n",
       "    </tr>\n",
       "  </thead>\n",
       "  <tbody>\n",
       "    <tr>\n",
       "      <th>0</th>\n",
       "      <td>1</td>\n",
       "      <td>0</td>\n",
       "      <td>3</td>\n",
       "      <td>Braund, Mr. Owen Harris</td>\n",
       "      <td>male</td>\n",
       "      <td>22.0</td>\n",
       "      <td>1</td>\n",
       "      <td>0</td>\n",
       "      <td>A/5 21171</td>\n",
       "      <td>7.2500</td>\n",
       "      <td>NaN</td>\n",
       "      <td>S</td>\n",
       "    </tr>\n",
       "    <tr>\n",
       "      <th>1</th>\n",
       "      <td>2</td>\n",
       "      <td>1</td>\n",
       "      <td>1</td>\n",
       "      <td>Cumings, Mrs. John Bradley (Florence Briggs Th...</td>\n",
       "      <td>female</td>\n",
       "      <td>38.0</td>\n",
       "      <td>1</td>\n",
       "      <td>0</td>\n",
       "      <td>PC 17599</td>\n",
       "      <td>71.2833</td>\n",
       "      <td>C85</td>\n",
       "      <td>C</td>\n",
       "    </tr>\n",
       "    <tr>\n",
       "      <th>2</th>\n",
       "      <td>3</td>\n",
       "      <td>1</td>\n",
       "      <td>3</td>\n",
       "      <td>Heikkinen, Miss. Laina</td>\n",
       "      <td>female</td>\n",
       "      <td>26.0</td>\n",
       "      <td>0</td>\n",
       "      <td>0</td>\n",
       "      <td>STON/O2. 3101282</td>\n",
       "      <td>7.9250</td>\n",
       "      <td>NaN</td>\n",
       "      <td>S</td>\n",
       "    </tr>\n",
       "    <tr>\n",
       "      <th>3</th>\n",
       "      <td>4</td>\n",
       "      <td>1</td>\n",
       "      <td>1</td>\n",
       "      <td>Futrelle, Mrs. Jacques Heath (Lily May Peel)</td>\n",
       "      <td>female</td>\n",
       "      <td>35.0</td>\n",
       "      <td>1</td>\n",
       "      <td>0</td>\n",
       "      <td>113803</td>\n",
       "      <td>53.1000</td>\n",
       "      <td>C123</td>\n",
       "      <td>S</td>\n",
       "    </tr>\n",
       "    <tr>\n",
       "      <th>4</th>\n",
       "      <td>5</td>\n",
       "      <td>0</td>\n",
       "      <td>3</td>\n",
       "      <td>Allen, Mr. William Henry</td>\n",
       "      <td>male</td>\n",
       "      <td>35.0</td>\n",
       "      <td>0</td>\n",
       "      <td>0</td>\n",
       "      <td>373450</td>\n",
       "      <td>8.0500</td>\n",
       "      <td>NaN</td>\n",
       "      <td>S</td>\n",
       "    </tr>\n",
       "    <tr>\n",
       "      <th>...</th>\n",
       "      <td>...</td>\n",
       "      <td>...</td>\n",
       "      <td>...</td>\n",
       "      <td>...</td>\n",
       "      <td>...</td>\n",
       "      <td>...</td>\n",
       "      <td>...</td>\n",
       "      <td>...</td>\n",
       "      <td>...</td>\n",
       "      <td>...</td>\n",
       "      <td>...</td>\n",
       "      <td>...</td>\n",
       "    </tr>\n",
       "    <tr>\n",
       "      <th>886</th>\n",
       "      <td>887</td>\n",
       "      <td>0</td>\n",
       "      <td>2</td>\n",
       "      <td>Montvila, Rev. Juozas</td>\n",
       "      <td>male</td>\n",
       "      <td>27.0</td>\n",
       "      <td>0</td>\n",
       "      <td>0</td>\n",
       "      <td>211536</td>\n",
       "      <td>13.0000</td>\n",
       "      <td>NaN</td>\n",
       "      <td>S</td>\n",
       "    </tr>\n",
       "    <tr>\n",
       "      <th>887</th>\n",
       "      <td>888</td>\n",
       "      <td>1</td>\n",
       "      <td>1</td>\n",
       "      <td>Graham, Miss. Margaret Edith</td>\n",
       "      <td>female</td>\n",
       "      <td>19.0</td>\n",
       "      <td>0</td>\n",
       "      <td>0</td>\n",
       "      <td>112053</td>\n",
       "      <td>30.0000</td>\n",
       "      <td>B42</td>\n",
       "      <td>S</td>\n",
       "    </tr>\n",
       "    <tr>\n",
       "      <th>888</th>\n",
       "      <td>889</td>\n",
       "      <td>0</td>\n",
       "      <td>3</td>\n",
       "      <td>Johnston, Miss. Catherine Helen \"Carrie\"</td>\n",
       "      <td>female</td>\n",
       "      <td>NaN</td>\n",
       "      <td>1</td>\n",
       "      <td>2</td>\n",
       "      <td>W./C. 6607</td>\n",
       "      <td>23.4500</td>\n",
       "      <td>NaN</td>\n",
       "      <td>S</td>\n",
       "    </tr>\n",
       "    <tr>\n",
       "      <th>889</th>\n",
       "      <td>890</td>\n",
       "      <td>1</td>\n",
       "      <td>1</td>\n",
       "      <td>Behr, Mr. Karl Howell</td>\n",
       "      <td>male</td>\n",
       "      <td>26.0</td>\n",
       "      <td>0</td>\n",
       "      <td>0</td>\n",
       "      <td>111369</td>\n",
       "      <td>30.0000</td>\n",
       "      <td>C148</td>\n",
       "      <td>C</td>\n",
       "    </tr>\n",
       "    <tr>\n",
       "      <th>890</th>\n",
       "      <td>891</td>\n",
       "      <td>0</td>\n",
       "      <td>3</td>\n",
       "      <td>Dooley, Mr. Patrick</td>\n",
       "      <td>male</td>\n",
       "      <td>32.0</td>\n",
       "      <td>0</td>\n",
       "      <td>0</td>\n",
       "      <td>370376</td>\n",
       "      <td>7.7500</td>\n",
       "      <td>NaN</td>\n",
       "      <td>Q</td>\n",
       "    </tr>\n",
       "  </tbody>\n",
       "</table>\n",
       "<p>891 rows × 12 columns</p>\n",
       "</div>"
      ],
      "text/plain": [
       "     PassengerId  Survived  Pclass  \\\n",
       "0              1         0       3   \n",
       "1              2         1       1   \n",
       "2              3         1       3   \n",
       "3              4         1       1   \n",
       "4              5         0       3   \n",
       "..           ...       ...     ...   \n",
       "886          887         0       2   \n",
       "887          888         1       1   \n",
       "888          889         0       3   \n",
       "889          890         1       1   \n",
       "890          891         0       3   \n",
       "\n",
       "                                                  Name     Sex   Age  SibSp  \\\n",
       "0                              Braund, Mr. Owen Harris    male  22.0      1   \n",
       "1    Cumings, Mrs. John Bradley (Florence Briggs Th...  female  38.0      1   \n",
       "2                               Heikkinen, Miss. Laina  female  26.0      0   \n",
       "3         Futrelle, Mrs. Jacques Heath (Lily May Peel)  female  35.0      1   \n",
       "4                             Allen, Mr. William Henry    male  35.0      0   \n",
       "..                                                 ...     ...   ...    ...   \n",
       "886                              Montvila, Rev. Juozas    male  27.0      0   \n",
       "887                       Graham, Miss. Margaret Edith  female  19.0      0   \n",
       "888           Johnston, Miss. Catherine Helen \"Carrie\"  female   NaN      1   \n",
       "889                              Behr, Mr. Karl Howell    male  26.0      0   \n",
       "890                                Dooley, Mr. Patrick    male  32.0      0   \n",
       "\n",
       "     Parch            Ticket     Fare Cabin Embarked  \n",
       "0        0         A/5 21171   7.2500   NaN        S  \n",
       "1        0          PC 17599  71.2833   C85        C  \n",
       "2        0  STON/O2. 3101282   7.9250   NaN        S  \n",
       "3        0            113803  53.1000  C123        S  \n",
       "4        0            373450   8.0500   NaN        S  \n",
       "..     ...               ...      ...   ...      ...  \n",
       "886      0            211536  13.0000   NaN        S  \n",
       "887      0            112053  30.0000   B42        S  \n",
       "888      2        W./C. 6607  23.4500   NaN        S  \n",
       "889      0            111369  30.0000  C148        C  \n",
       "890      0            370376   7.7500   NaN        Q  \n",
       "\n",
       "[891 rows x 12 columns]"
      ]
     },
     "execution_count": 5,
     "metadata": {},
     "output_type": "execute_result"
    }
   ],
   "source": [
    "titanic"
   ]
  },
  {
   "cell_type": "code",
   "execution_count": 6,
   "metadata": {
    "colab": {
     "base_uri": "https://localhost:8080/"
    },
    "id": "DungVOmuXtUL",
    "outputId": "8a88c455-0af7-41a0-bcb2-09263b28c3d5"
   },
   "outputs": [
    {
     "name": "stdout",
     "output_type": "stream",
     "text": [
      "Dataset shape: (891, 12)\n",
      "Number of rows: 891\n",
      "Number of columns: 12\n"
     ]
    }
   ],
   "source": [
    "# Basic information about the dataset\n",
    "print(f\"Dataset shape: {titanic.shape}\")\n",
    "print(f\"Number of rows: {len(titanic)}\")\n",
    "print(f\"Number of columns: {len(titanic.columns)}\")"
   ]
  },
  {
   "cell_type": "code",
   "execution_count": 7,
   "metadata": {
    "colab": {
     "base_uri": "https://localhost:8080/",
     "height": 538
    },
    "id": "Fz6ngc1aXw3j",
    "outputId": "8247c255-c825-4870-ff23-862c0e8c547e"
   },
   "outputs": [
    {
     "name": "stdout",
     "output_type": "stream",
     "text": [
      "\n",
      "First 5 rows:\n"
     ]
    },
    {
     "data": {
      "text/html": [
       "<div>\n",
       "<style scoped>\n",
       "    .dataframe tbody tr th:only-of-type {\n",
       "        vertical-align: middle;\n",
       "    }\n",
       "\n",
       "    .dataframe tbody tr th {\n",
       "        vertical-align: top;\n",
       "    }\n",
       "\n",
       "    .dataframe thead th {\n",
       "        text-align: right;\n",
       "    }\n",
       "</style>\n",
       "<table border=\"1\" class=\"dataframe\">\n",
       "  <thead>\n",
       "    <tr style=\"text-align: right;\">\n",
       "      <th></th>\n",
       "      <th>PassengerId</th>\n",
       "      <th>Survived</th>\n",
       "      <th>Pclass</th>\n",
       "      <th>Name</th>\n",
       "      <th>Sex</th>\n",
       "      <th>Age</th>\n",
       "      <th>SibSp</th>\n",
       "      <th>Parch</th>\n",
       "      <th>Ticket</th>\n",
       "      <th>Fare</th>\n",
       "      <th>Cabin</th>\n",
       "      <th>Embarked</th>\n",
       "    </tr>\n",
       "  </thead>\n",
       "  <tbody>\n",
       "    <tr>\n",
       "      <th>0</th>\n",
       "      <td>1</td>\n",
       "      <td>0</td>\n",
       "      <td>3</td>\n",
       "      <td>Braund, Mr. Owen Harris</td>\n",
       "      <td>male</td>\n",
       "      <td>22.0</td>\n",
       "      <td>1</td>\n",
       "      <td>0</td>\n",
       "      <td>A/5 21171</td>\n",
       "      <td>7.2500</td>\n",
       "      <td>NaN</td>\n",
       "      <td>S</td>\n",
       "    </tr>\n",
       "    <tr>\n",
       "      <th>1</th>\n",
       "      <td>2</td>\n",
       "      <td>1</td>\n",
       "      <td>1</td>\n",
       "      <td>Cumings, Mrs. John Bradley (Florence Briggs Th...</td>\n",
       "      <td>female</td>\n",
       "      <td>38.0</td>\n",
       "      <td>1</td>\n",
       "      <td>0</td>\n",
       "      <td>PC 17599</td>\n",
       "      <td>71.2833</td>\n",
       "      <td>C85</td>\n",
       "      <td>C</td>\n",
       "    </tr>\n",
       "    <tr>\n",
       "      <th>2</th>\n",
       "      <td>3</td>\n",
       "      <td>1</td>\n",
       "      <td>3</td>\n",
       "      <td>Heikkinen, Miss. Laina</td>\n",
       "      <td>female</td>\n",
       "      <td>26.0</td>\n",
       "      <td>0</td>\n",
       "      <td>0</td>\n",
       "      <td>STON/O2. 3101282</td>\n",
       "      <td>7.9250</td>\n",
       "      <td>NaN</td>\n",
       "      <td>S</td>\n",
       "    </tr>\n",
       "    <tr>\n",
       "      <th>3</th>\n",
       "      <td>4</td>\n",
       "      <td>1</td>\n",
       "      <td>1</td>\n",
       "      <td>Futrelle, Mrs. Jacques Heath (Lily May Peel)</td>\n",
       "      <td>female</td>\n",
       "      <td>35.0</td>\n",
       "      <td>1</td>\n",
       "      <td>0</td>\n",
       "      <td>113803</td>\n",
       "      <td>53.1000</td>\n",
       "      <td>C123</td>\n",
       "      <td>S</td>\n",
       "    </tr>\n",
       "    <tr>\n",
       "      <th>4</th>\n",
       "      <td>5</td>\n",
       "      <td>0</td>\n",
       "      <td>3</td>\n",
       "      <td>Allen, Mr. William Henry</td>\n",
       "      <td>male</td>\n",
       "      <td>35.0</td>\n",
       "      <td>0</td>\n",
       "      <td>0</td>\n",
       "      <td>373450</td>\n",
       "      <td>8.0500</td>\n",
       "      <td>NaN</td>\n",
       "      <td>S</td>\n",
       "    </tr>\n",
       "  </tbody>\n",
       "</table>\n",
       "</div>"
      ],
      "text/plain": [
       "   PassengerId  Survived  Pclass  \\\n",
       "0            1         0       3   \n",
       "1            2         1       1   \n",
       "2            3         1       3   \n",
       "3            4         1       1   \n",
       "4            5         0       3   \n",
       "\n",
       "                                                Name     Sex   Age  SibSp  \\\n",
       "0                            Braund, Mr. Owen Harris    male  22.0      1   \n",
       "1  Cumings, Mrs. John Bradley (Florence Briggs Th...  female  38.0      1   \n",
       "2                             Heikkinen, Miss. Laina  female  26.0      0   \n",
       "3       Futrelle, Mrs. Jacques Heath (Lily May Peel)  female  35.0      1   \n",
       "4                           Allen, Mr. William Henry    male  35.0      0   \n",
       "\n",
       "   Parch            Ticket     Fare Cabin Embarked  \n",
       "0      0         A/5 21171   7.2500   NaN        S  \n",
       "1      0          PC 17599  71.2833   C85        C  \n",
       "2      0  STON/O2. 3101282   7.9250   NaN        S  \n",
       "3      0            113803  53.1000  C123        S  \n",
       "4      0            373450   8.0500   NaN        S  "
      ]
     },
     "execution_count": 7,
     "metadata": {},
     "output_type": "execute_result"
    }
   ],
   "source": [
    "# Display first few rows\n",
    "print(\"\\nFirst 5 rows:\")\n",
    "titanic.head()"
   ]
  },
  {
   "cell_type": "code",
   "execution_count": 8,
   "metadata": {
    "colab": {
     "base_uri": "https://localhost:8080/",
     "height": 486
    },
    "id": "uBTWJoohYIff",
    "outputId": "54eb4803-c47a-47d0-f73c-25f41b56479e"
   },
   "outputs": [
    {
     "name": "stdout",
     "output_type": "stream",
     "text": [
      "\n",
      "Last 5 rows:\n"
     ]
    },
    {
     "data": {
      "text/html": [
       "<div>\n",
       "<style scoped>\n",
       "    .dataframe tbody tr th:only-of-type {\n",
       "        vertical-align: middle;\n",
       "    }\n",
       "\n",
       "    .dataframe tbody tr th {\n",
       "        vertical-align: top;\n",
       "    }\n",
       "\n",
       "    .dataframe thead th {\n",
       "        text-align: right;\n",
       "    }\n",
       "</style>\n",
       "<table border=\"1\" class=\"dataframe\">\n",
       "  <thead>\n",
       "    <tr style=\"text-align: right;\">\n",
       "      <th></th>\n",
       "      <th>PassengerId</th>\n",
       "      <th>Survived</th>\n",
       "      <th>Pclass</th>\n",
       "      <th>Name</th>\n",
       "      <th>Sex</th>\n",
       "      <th>Age</th>\n",
       "      <th>SibSp</th>\n",
       "      <th>Parch</th>\n",
       "      <th>Ticket</th>\n",
       "      <th>Fare</th>\n",
       "      <th>Cabin</th>\n",
       "      <th>Embarked</th>\n",
       "    </tr>\n",
       "  </thead>\n",
       "  <tbody>\n",
       "    <tr>\n",
       "      <th>886</th>\n",
       "      <td>887</td>\n",
       "      <td>0</td>\n",
       "      <td>2</td>\n",
       "      <td>Montvila, Rev. Juozas</td>\n",
       "      <td>male</td>\n",
       "      <td>27.0</td>\n",
       "      <td>0</td>\n",
       "      <td>0</td>\n",
       "      <td>211536</td>\n",
       "      <td>13.00</td>\n",
       "      <td>NaN</td>\n",
       "      <td>S</td>\n",
       "    </tr>\n",
       "    <tr>\n",
       "      <th>887</th>\n",
       "      <td>888</td>\n",
       "      <td>1</td>\n",
       "      <td>1</td>\n",
       "      <td>Graham, Miss. Margaret Edith</td>\n",
       "      <td>female</td>\n",
       "      <td>19.0</td>\n",
       "      <td>0</td>\n",
       "      <td>0</td>\n",
       "      <td>112053</td>\n",
       "      <td>30.00</td>\n",
       "      <td>B42</td>\n",
       "      <td>S</td>\n",
       "    </tr>\n",
       "    <tr>\n",
       "      <th>888</th>\n",
       "      <td>889</td>\n",
       "      <td>0</td>\n",
       "      <td>3</td>\n",
       "      <td>Johnston, Miss. Catherine Helen \"Carrie\"</td>\n",
       "      <td>female</td>\n",
       "      <td>NaN</td>\n",
       "      <td>1</td>\n",
       "      <td>2</td>\n",
       "      <td>W./C. 6607</td>\n",
       "      <td>23.45</td>\n",
       "      <td>NaN</td>\n",
       "      <td>S</td>\n",
       "    </tr>\n",
       "    <tr>\n",
       "      <th>889</th>\n",
       "      <td>890</td>\n",
       "      <td>1</td>\n",
       "      <td>1</td>\n",
       "      <td>Behr, Mr. Karl Howell</td>\n",
       "      <td>male</td>\n",
       "      <td>26.0</td>\n",
       "      <td>0</td>\n",
       "      <td>0</td>\n",
       "      <td>111369</td>\n",
       "      <td>30.00</td>\n",
       "      <td>C148</td>\n",
       "      <td>C</td>\n",
       "    </tr>\n",
       "    <tr>\n",
       "      <th>890</th>\n",
       "      <td>891</td>\n",
       "      <td>0</td>\n",
       "      <td>3</td>\n",
       "      <td>Dooley, Mr. Patrick</td>\n",
       "      <td>male</td>\n",
       "      <td>32.0</td>\n",
       "      <td>0</td>\n",
       "      <td>0</td>\n",
       "      <td>370376</td>\n",
       "      <td>7.75</td>\n",
       "      <td>NaN</td>\n",
       "      <td>Q</td>\n",
       "    </tr>\n",
       "  </tbody>\n",
       "</table>\n",
       "</div>"
      ],
      "text/plain": [
       "     PassengerId  Survived  Pclass                                      Name  \\\n",
       "886          887         0       2                     Montvila, Rev. Juozas   \n",
       "887          888         1       1              Graham, Miss. Margaret Edith   \n",
       "888          889         0       3  Johnston, Miss. Catherine Helen \"Carrie\"   \n",
       "889          890         1       1                     Behr, Mr. Karl Howell   \n",
       "890          891         0       3                       Dooley, Mr. Patrick   \n",
       "\n",
       "        Sex   Age  SibSp  Parch      Ticket   Fare Cabin Embarked  \n",
       "886    male  27.0      0      0      211536  13.00   NaN        S  \n",
       "887  female  19.0      0      0      112053  30.00   B42        S  \n",
       "888  female   NaN      1      2  W./C. 6607  23.45   NaN        S  \n",
       "889    male  26.0      0      0      111369  30.00  C148        C  \n",
       "890    male  32.0      0      0      370376   7.75   NaN        Q  "
      ]
     },
     "execution_count": 8,
     "metadata": {},
     "output_type": "execute_result"
    }
   ],
   "source": [
    "# Display last few rows\n",
    "print(\"\\nLast 5 rows:\")\n",
    "titanic.tail()\n"
   ]
  },
  {
   "cell_type": "code",
   "execution_count": 9,
   "metadata": {
    "colab": {
     "base_uri": "https://localhost:8080/",
     "height": 371
    },
    "id": "UioDWYzfYL1s",
    "outputId": "bdd8cfb1-6838-4ef3-ffc5-791783049b8a"
   },
   "outputs": [
    {
     "name": "stdout",
     "output_type": "stream",
     "text": [
      "\n",
      "Random sample of 3 rows:\n"
     ]
    },
    {
     "data": {
      "text/html": [
       "<div>\n",
       "<style scoped>\n",
       "    .dataframe tbody tr th:only-of-type {\n",
       "        vertical-align: middle;\n",
       "    }\n",
       "\n",
       "    .dataframe tbody tr th {\n",
       "        vertical-align: top;\n",
       "    }\n",
       "\n",
       "    .dataframe thead th {\n",
       "        text-align: right;\n",
       "    }\n",
       "</style>\n",
       "<table border=\"1\" class=\"dataframe\">\n",
       "  <thead>\n",
       "    <tr style=\"text-align: right;\">\n",
       "      <th></th>\n",
       "      <th>PassengerId</th>\n",
       "      <th>Survived</th>\n",
       "      <th>Pclass</th>\n",
       "      <th>Name</th>\n",
       "      <th>Sex</th>\n",
       "      <th>Age</th>\n",
       "      <th>SibSp</th>\n",
       "      <th>Parch</th>\n",
       "      <th>Ticket</th>\n",
       "      <th>Fare</th>\n",
       "      <th>Cabin</th>\n",
       "      <th>Embarked</th>\n",
       "    </tr>\n",
       "  </thead>\n",
       "  <tbody>\n",
       "    <tr>\n",
       "      <th>418</th>\n",
       "      <td>419</td>\n",
       "      <td>0</td>\n",
       "      <td>2</td>\n",
       "      <td>Matthews, Mr. William John</td>\n",
       "      <td>male</td>\n",
       "      <td>30.0</td>\n",
       "      <td>0</td>\n",
       "      <td>0</td>\n",
       "      <td>28228</td>\n",
       "      <td>13.0000</td>\n",
       "      <td>NaN</td>\n",
       "      <td>S</td>\n",
       "    </tr>\n",
       "    <tr>\n",
       "      <th>352</th>\n",
       "      <td>353</td>\n",
       "      <td>0</td>\n",
       "      <td>3</td>\n",
       "      <td>Elias, Mr. Tannous</td>\n",
       "      <td>male</td>\n",
       "      <td>15.0</td>\n",
       "      <td>1</td>\n",
       "      <td>1</td>\n",
       "      <td>2695</td>\n",
       "      <td>7.2292</td>\n",
       "      <td>NaN</td>\n",
       "      <td>C</td>\n",
       "    </tr>\n",
       "    <tr>\n",
       "      <th>321</th>\n",
       "      <td>322</td>\n",
       "      <td>0</td>\n",
       "      <td>3</td>\n",
       "      <td>Danoff, Mr. Yoto</td>\n",
       "      <td>male</td>\n",
       "      <td>27.0</td>\n",
       "      <td>0</td>\n",
       "      <td>0</td>\n",
       "      <td>349219</td>\n",
       "      <td>7.8958</td>\n",
       "      <td>NaN</td>\n",
       "      <td>S</td>\n",
       "    </tr>\n",
       "  </tbody>\n",
       "</table>\n",
       "</div>"
      ],
      "text/plain": [
       "     PassengerId  Survived  Pclass                        Name   Sex   Age  \\\n",
       "418          419         0       2  Matthews, Mr. William John  male  30.0   \n",
       "352          353         0       3          Elias, Mr. Tannous  male  15.0   \n",
       "321          322         0       3            Danoff, Mr. Yoto  male  27.0   \n",
       "\n",
       "     SibSp  Parch  Ticket     Fare Cabin Embarked  \n",
       "418      0      0   28228  13.0000   NaN        S  \n",
       "352      1      1    2695   7.2292   NaN        C  \n",
       "321      0      0  349219   7.8958   NaN        S  "
      ]
     },
     "execution_count": 9,
     "metadata": {},
     "output_type": "execute_result"
    }
   ],
   "source": [
    "# Display random sample\n",
    "print(\"\\nRandom sample of 3 rows:\")\n",
    "titanic.sample(3)\n"
   ]
  },
  {
   "cell_type": "code",
   "execution_count": 10,
   "metadata": {
    "colab": {
     "base_uri": "https://localhost:8080/"
    },
    "id": "DzrvZNveYPzs",
    "outputId": "e8a5a19a-3b54-4796-fad6-805ce39e3234"
   },
   "outputs": [
    {
     "name": "stdout",
     "output_type": "stream",
     "text": [
      "<class 'pandas.core.frame.DataFrame'>\n",
      "RangeIndex: 891 entries, 0 to 890\n",
      "Data columns (total 12 columns):\n",
      " #   Column       Non-Null Count  Dtype  \n",
      "---  ------       --------------  -----  \n",
      " 0   PassengerId  891 non-null    int64  \n",
      " 1   Survived     891 non-null    int64  \n",
      " 2   Pclass       891 non-null    int64  \n",
      " 3   Name         891 non-null    object \n",
      " 4   Sex          891 non-null    object \n",
      " 5   Age          714 non-null    float64\n",
      " 6   SibSp        891 non-null    int64  \n",
      " 7   Parch        891 non-null    int64  \n",
      " 8   Ticket       891 non-null    object \n",
      " 9   Fare         891 non-null    float64\n",
      " 10  Cabin        204 non-null    object \n",
      " 11  Embarked     889 non-null    object \n",
      "dtypes: float64(2), int64(5), object(5)\n",
      "memory usage: 83.7+ KB\n",
      "None\n"
     ]
    }
   ],
   "source": [
    "# Dataset info\n",
    "print(titanic.info())"
   ]
  },
  {
   "cell_type": "code",
   "execution_count": 11,
   "metadata": {
    "colab": {
     "base_uri": "https://localhost:8080/",
     "height": 300
    },
    "id": "WIga6-O7Y6yW",
    "outputId": "24931cd8-9bdf-4b25-837f-04c3325a1346"
   },
   "outputs": [
    {
     "data": {
      "text/html": [
       "<div>\n",
       "<style scoped>\n",
       "    .dataframe tbody tr th:only-of-type {\n",
       "        vertical-align: middle;\n",
       "    }\n",
       "\n",
       "    .dataframe tbody tr th {\n",
       "        vertical-align: top;\n",
       "    }\n",
       "\n",
       "    .dataframe thead th {\n",
       "        text-align: right;\n",
       "    }\n",
       "</style>\n",
       "<table border=\"1\" class=\"dataframe\">\n",
       "  <thead>\n",
       "    <tr style=\"text-align: right;\">\n",
       "      <th></th>\n",
       "      <th>PassengerId</th>\n",
       "      <th>Survived</th>\n",
       "      <th>Pclass</th>\n",
       "      <th>Age</th>\n",
       "      <th>SibSp</th>\n",
       "      <th>Parch</th>\n",
       "      <th>Fare</th>\n",
       "    </tr>\n",
       "  </thead>\n",
       "  <tbody>\n",
       "    <tr>\n",
       "      <th>count</th>\n",
       "      <td>891.000000</td>\n",
       "      <td>891.000000</td>\n",
       "      <td>891.000000</td>\n",
       "      <td>714.000000</td>\n",
       "      <td>891.000000</td>\n",
       "      <td>891.000000</td>\n",
       "      <td>891.000000</td>\n",
       "    </tr>\n",
       "    <tr>\n",
       "      <th>mean</th>\n",
       "      <td>446.000000</td>\n",
       "      <td>0.383838</td>\n",
       "      <td>2.308642</td>\n",
       "      <td>29.699118</td>\n",
       "      <td>0.523008</td>\n",
       "      <td>0.381594</td>\n",
       "      <td>32.204208</td>\n",
       "    </tr>\n",
       "    <tr>\n",
       "      <th>std</th>\n",
       "      <td>257.353842</td>\n",
       "      <td>0.486592</td>\n",
       "      <td>0.836071</td>\n",
       "      <td>14.526497</td>\n",
       "      <td>1.102743</td>\n",
       "      <td>0.806057</td>\n",
       "      <td>49.693429</td>\n",
       "    </tr>\n",
       "    <tr>\n",
       "      <th>min</th>\n",
       "      <td>1.000000</td>\n",
       "      <td>0.000000</td>\n",
       "      <td>1.000000</td>\n",
       "      <td>0.420000</td>\n",
       "      <td>0.000000</td>\n",
       "      <td>0.000000</td>\n",
       "      <td>0.000000</td>\n",
       "    </tr>\n",
       "    <tr>\n",
       "      <th>25%</th>\n",
       "      <td>223.500000</td>\n",
       "      <td>0.000000</td>\n",
       "      <td>2.000000</td>\n",
       "      <td>20.125000</td>\n",
       "      <td>0.000000</td>\n",
       "      <td>0.000000</td>\n",
       "      <td>7.910400</td>\n",
       "    </tr>\n",
       "    <tr>\n",
       "      <th>50%</th>\n",
       "      <td>446.000000</td>\n",
       "      <td>0.000000</td>\n",
       "      <td>3.000000</td>\n",
       "      <td>28.000000</td>\n",
       "      <td>0.000000</td>\n",
       "      <td>0.000000</td>\n",
       "      <td>14.454200</td>\n",
       "    </tr>\n",
       "    <tr>\n",
       "      <th>75%</th>\n",
       "      <td>668.500000</td>\n",
       "      <td>1.000000</td>\n",
       "      <td>3.000000</td>\n",
       "      <td>38.000000</td>\n",
       "      <td>1.000000</td>\n",
       "      <td>0.000000</td>\n",
       "      <td>31.000000</td>\n",
       "    </tr>\n",
       "    <tr>\n",
       "      <th>max</th>\n",
       "      <td>891.000000</td>\n",
       "      <td>1.000000</td>\n",
       "      <td>3.000000</td>\n",
       "      <td>80.000000</td>\n",
       "      <td>8.000000</td>\n",
       "      <td>6.000000</td>\n",
       "      <td>512.329200</td>\n",
       "    </tr>\n",
       "  </tbody>\n",
       "</table>\n",
       "</div>"
      ],
      "text/plain": [
       "       PassengerId    Survived      Pclass         Age       SibSp  \\\n",
       "count   891.000000  891.000000  891.000000  714.000000  891.000000   \n",
       "mean    446.000000    0.383838    2.308642   29.699118    0.523008   \n",
       "std     257.353842    0.486592    0.836071   14.526497    1.102743   \n",
       "min       1.000000    0.000000    1.000000    0.420000    0.000000   \n",
       "25%     223.500000    0.000000    2.000000   20.125000    0.000000   \n",
       "50%     446.000000    0.000000    3.000000   28.000000    0.000000   \n",
       "75%     668.500000    1.000000    3.000000   38.000000    1.000000   \n",
       "max     891.000000    1.000000    3.000000   80.000000    8.000000   \n",
       "\n",
       "            Parch        Fare  \n",
       "count  891.000000  891.000000  \n",
       "mean     0.381594   32.204208  \n",
       "std      0.806057   49.693429  \n",
       "min      0.000000    0.000000  \n",
       "25%      0.000000    7.910400  \n",
       "50%      0.000000   14.454200  \n",
       "75%      0.000000   31.000000  \n",
       "max      6.000000  512.329200  "
      ]
     },
     "execution_count": 11,
     "metadata": {},
     "output_type": "execute_result"
    }
   ],
   "source": [
    "# Describe numerical columns\n",
    "titanic.describe()"
   ]
  },
  {
   "cell_type": "code",
   "execution_count": 12,
   "metadata": {
    "colab": {
     "base_uri": "https://localhost:8080/"
    },
    "id": "6S5-Q26DZE3B",
    "outputId": "6054d510-2f42-47cd-e0a3-e2bd2660c992"
   },
   "outputs": [
    {
     "name": "stdout",
     "output_type": "stream",
     "text": [
      "PassengerId      0\n",
      "Survived         0\n",
      "Pclass           0\n",
      "Name             0\n",
      "Sex              0\n",
      "Age            177\n",
      "SibSp            0\n",
      "Parch            0\n",
      "Ticket           0\n",
      "Fare             0\n",
      "Cabin          687\n",
      "Embarked         2\n",
      "dtype: int64\n"
     ]
    }
   ],
   "source": [
    "# Check for missing values\n",
    "print(titanic.isnull().sum())"
   ]
  },
  {
   "cell_type": "code",
   "execution_count": 13,
   "metadata": {
    "colab": {
     "base_uri": "https://localhost:8080/"
    },
    "id": "_OmDWbExZLRR",
    "outputId": "5f70ede3-9285-4105-e1a3-91ed336b9bff"
   },
   "outputs": [
    {
     "name": "stdout",
     "output_type": "stream",
     "text": [
      "PassengerId      int64\n",
      "Survived         int64\n",
      "Pclass           int64\n",
      "Name            object\n",
      "Sex             object\n",
      "Age            float64\n",
      "SibSp            int64\n",
      "Parch            int64\n",
      "Ticket          object\n",
      "Fare           float64\n",
      "Cabin           object\n",
      "Embarked        object\n",
      "dtype: object\n"
     ]
    }
   ],
   "source": [
    "# Check data types\n",
    "print(titanic.dtypes)"
   ]
  },
  {
   "cell_type": "markdown",
   "metadata": {
    "id": "NOJWYYbYZOJ-"
   },
   "source": [
    "# =====================================================\n",
    "# 4. DATA SELECTION AND INDEXING\n",
    "# =====================================================\n"
   ]
  },
  {
   "cell_type": "code",
   "execution_count": 14,
   "metadata": {
    "colab": {
     "base_uri": "https://localhost:8080/"
    },
    "id": "UAl2hEMaZfDz",
    "outputId": "3bc6adf3-0f63-4c05-e70f-b2e7789e0257"
   },
   "outputs": [
    {
     "name": "stdout",
     "output_type": "stream",
     "text": [
      "4. DATA SELECTION AND INDEXING\n",
      "============================================================\n",
      "\n",
      "4.1 Column Selection:\n",
      "------------------------------\n",
      "Type of single column selection: <class 'pandas.core.series.Series'>\n",
      "First 5 ages: [22.0, 38.0, 26.0, 35.0, 35.0]\n"
     ]
    }
   ],
   "source": [
    "print(\"4. DATA SELECTION AND INDEXING\")\n",
    "print(\"=\"*60)\n",
    "\n",
    "# Column selection\n",
    "print(\"\\n4.1 Column Selection:\")\n",
    "print(\"-\" * 30)\n",
    "\n",
    "# Single column (returns Series)\n",
    "ages_series = titanic['Age']\n",
    "print(f\"Type of single column selection: {type(ages_series)}\")\n",
    "print(f\"First 5 ages: {ages_series.head().tolist()}\")"
   ]
  },
  {
   "cell_type": "code",
   "execution_count": 15,
   "metadata": {
    "colab": {
     "base_uri": "https://localhost:8080/"
    },
    "id": "Lgq28y82Zvbg",
    "outputId": "254f6c07-d8d1-4e7a-8b5c-2ddd3db3c14e"
   },
   "outputs": [
    {
     "name": "stdout",
     "output_type": "stream",
     "text": [
      "\n",
      "Type of multiple column selection: <class 'pandas.core.frame.DataFrame'>\n",
      "First 3 rows of passenger info:\n",
      "    Age     Sex     Fare\n",
      "0  22.0    male   7.2500\n",
      "1  38.0  female  71.2833\n",
      "2  26.0  female   7.9250\n"
     ]
    }
   ],
   "source": [
    "# Multiple columns (returns DataFrame)\n",
    "passenger_info = titanic[['Age', 'Sex', 'Fare']]\n",
    "print(f\"\\nType of multiple column selection: {type(passenger_info)}\")\n",
    "print(\"First 3 rows of passenger info:\")\n",
    "print(passenger_info.head(3))\n"
   ]
  },
  {
   "cell_type": "code",
   "execution_count": 16,
   "metadata": {
    "colab": {
     "base_uri": "https://localhost:8080/"
    },
    "id": "UWLjEoNkZ8Jp",
    "outputId": "42930af6-ebca-4c21-da45-816e278f8469"
   },
   "outputs": [
    {
     "name": "stdout",
     "output_type": "stream",
     "text": [
      "\n",
      "4.2 Row Selection with iloc:\n",
      "------------------------------\n",
      "First passenger:\n",
      "PassengerId                          1\n",
      "Survived                             0\n",
      "Pclass                               3\n",
      "Name           Braund, Mr. Owen Harris\n",
      "Sex                               male\n",
      "Age                               22.0\n",
      "SibSp                                1\n",
      "Parch                                0\n",
      "Ticket                       A/5 21171\n",
      "Fare                              7.25\n",
      "Cabin                              NaN\n",
      "Embarked                             S\n",
      "Name: 0, dtype: object\n",
      "\n",
      "Type of row selection: <class 'pandas.core.series.Series'>\n"
     ]
    }
   ],
   "source": [
    "# Row selection using iloc (integer-location based)\n",
    "print(\"\\n4.2 Row Selection with iloc:\")\n",
    "print(\"-\" * 30)\n",
    "\n",
    "# Single row\n",
    "first_passenger = titanic.iloc[0]\n",
    "print(f\"First passenger:\\n{first_passenger}\")\n",
    "print(f\"\\nType of row selection: {type(first_passenger)}\")\n"
   ]
  },
  {
   "cell_type": "code",
   "execution_count": 17,
   "metadata": {
    "colab": {
     "base_uri": "https://localhost:8080/"
    },
    "id": "izbfoOpJaUa4",
    "outputId": "1130f2c1-5584-4e9c-c8b4-2f5ecf300749"
   },
   "outputs": [
    {
     "name": "stdout",
     "output_type": "stream",
     "text": [
      "\n",
      "First 5 passengers (shape: (5, 12)):\n",
      "   PassengerId  Survived  Pclass  \\\n",
      "0            1         0       3   \n",
      "1            2         1       1   \n",
      "2            3         1       3   \n",
      "3            4         1       1   \n",
      "4            5         0       3   \n",
      "\n",
      "                                                Name     Sex   Age  SibSp  \\\n",
      "0                            Braund, Mr. Owen Harris    male  22.0      1   \n",
      "1  Cumings, Mrs. John Bradley (Florence Briggs Th...  female  38.0      1   \n",
      "2                             Heikkinen, Miss. Laina  female  26.0      0   \n",
      "3       Futrelle, Mrs. Jacques Heath (Lily May Peel)  female  35.0      1   \n",
      "4                           Allen, Mr. William Henry    male  35.0      0   \n",
      "\n",
      "   Parch            Ticket     Fare Cabin Embarked  \n",
      "0      0         A/5 21171   7.2500   NaN        S  \n",
      "1      0          PC 17599  71.2833   C85        C  \n",
      "2      0  STON/O2. 3101282   7.9250   NaN        S  \n",
      "3      0            113803  53.1000  C123        S  \n",
      "4      0            373450   8.0500   NaN        S  \n",
      "    Age     Sex     Fare\n",
      "0  22.0    male   7.2500\n",
      "1  38.0  female  71.2833\n",
      "2  26.0  female   7.9250\n",
      "3  35.0  female  53.1000\n",
      "4  35.0    male   8.0500\n"
     ]
    }
   ],
   "source": [
    "# Multiple rows\n",
    "first_five = titanic.iloc[0:5]\n",
    "print(f\"\\nFirst 5 passengers (shape: {first_five.shape}):\")\n",
    "print(first_five)\n",
    "print(first_five[['Age', 'Sex', 'Fare']])"
   ]
  },
  {
   "cell_type": "code",
   "execution_count": 18,
   "metadata": {
    "colab": {
     "base_uri": "https://localhost:8080/"
    },
    "id": "ypg18E4RapQW",
    "outputId": "bf22724c-2cfa-47dd-d3b9-a5bc2ee9eec8"
   },
   "outputs": [
    {
     "name": "stdout",
     "output_type": "stream",
     "text": [
      "\n",
      "Specific rows (0, 5, 10):\n",
      "     Age     Sex     Fare\n",
      "0   22.0    male   7.2500\n",
      "5    NaN    male   8.4583\n",
      "10   4.0  female  16.7000\n",
      "\n",
      "4.3 Row and Column Selection:\n",
      "------------------------------\n",
      "Subset (first 5 rows, columns 1-3):\n",
      "   Survived  Pclass                                               Name\n",
      "0         0       3                            Braund, Mr. Owen Harris\n",
      "1         1       1  Cumings, Mrs. John Bradley (Florence Briggs Th...\n",
      "2         1       3                             Heikkinen, Miss. Laina\n",
      "3         1       1       Futrelle, Mrs. Jacques Heath (Lily May Peel)\n",
      "4         0       3                           Allen, Mr. William Henry\n"
     ]
    }
   ],
   "source": [
    "# Specific rows\n",
    "specific_rows = titanic.iloc[[0, 5, 10]]\n",
    "print(f\"\\nSpecific rows (0, 5, 10):\")\n",
    "print(specific_rows[['Age', 'Sex', 'Fare']])\n",
    "\n",
    "# Row and column selection\n",
    "print(\"\\n4.3 Row and Column Selection:\")\n",
    "print(\"-\" * 30)\n",
    "\n",
    "# Select specific rows and columns\n",
    "subset = titanic.iloc[0:5, 1:4]  # First 5 rows, columns 1-3\n",
    "print(\"Subset (first 5 rows, columns 1-3):\")\n",
    "print(subset)"
   ]
  },
  {
   "cell_type": "code",
   "execution_count": 19,
   "metadata": {
    "colab": {
     "base_uri": "https://localhost:8080/"
    },
    "id": "fSrq0TLVazpO",
    "outputId": "7fec0f30-fa38-4c90-b7c1-df67cff3d690"
   },
   "outputs": [
    {
     "name": "stdout",
     "output_type": "stream",
     "text": [
      "\n",
      "Using loc with column names:\n",
      "    Age     Sex\n",
      "0  22.0    male\n",
      "1  38.0  female\n",
      "2  26.0  female\n",
      "3  35.0  female\n",
      "4  35.0    male\n"
     ]
    }
   ],
   "source": [
    "# Using column names with loc\n",
    "age_sex_subset = titanic.loc[0:4, ['Age', 'Sex']]\n",
    "print(f\"\\nUsing loc with column names:\")\n",
    "print(age_sex_subset)"
   ]
  },
  {
   "cell_type": "markdown",
   "metadata": {
    "id": "Mxiut9AKbDz6"
   },
   "source": [
    "# =====================================================\n",
    "# 5. DATA CLEANING AND HANDLING MISSING VALUES\n",
    "# ====================================================="
   ]
  },
  {
   "cell_type": "code",
   "execution_count": 20,
   "metadata": {
    "colab": {
     "base_uri": "https://localhost:8080/"
    },
    "id": "vvjbmL9PbNSH",
    "outputId": "0a48137e-3f7b-4ba2-d96f-28a9bc6e644c"
   },
   "outputs": [
    {
     "name": "stdout",
     "output_type": "stream",
     "text": [
      "\n",
      "============================================================\n",
      "5. DATA CLEANING AND HANDLING MISSING VALUES\n",
      "============================================================\n",
      "\n",
      "5.1 Identifying Missing Values:\n",
      "------------------------------\n",
      "Missing values per column:\n",
      "Age         177\n",
      "Cabin       687\n",
      "Embarked      2\n",
      "dtype: int64\n"
     ]
    }
   ],
   "source": [
    "print(\"\\n\" + \"=\"*60)\n",
    "print(\"5. DATA CLEANING AND HANDLING MISSING VALUES\")\n",
    "print(\"=\"*60)\n",
    "\n",
    "print(\"\\n5.1 Identifying Missing Values:\")\n",
    "print(\"-\" * 30)\n",
    "\n",
    "# Check for missing values\n",
    "missing_counts = titanic.isnull().sum()\n",
    "print(\"Missing values per column:\")\n",
    "print(missing_counts[missing_counts > 0])"
   ]
  },
  {
   "cell_type": "code",
   "execution_count": 21,
   "metadata": {
    "colab": {
     "base_uri": "https://localhost:8080/"
    },
    "id": "NwaDGj0LbQ5y",
    "outputId": "250a1a74-1f67-4796-8454-5b39c8566a42"
   },
   "outputs": [
    {
     "name": "stdout",
     "output_type": "stream",
     "text": [
      "\n",
      "Percentage of missing values:\n",
      "Age         19.865320\n",
      "Cabin       77.104377\n",
      "Embarked     0.224467\n",
      "dtype: float64\n"
     ]
    }
   ],
   "source": [
    "# Percentage of missing values\n",
    "missing_percentage = (titanic.isnull().sum() / len(titanic)) * 100\n",
    "print(\"\\nPercentage of missing values:\")\n",
    "print(missing_percentage[missing_percentage > 0])"
   ]
  },
  {
   "cell_type": "code",
   "execution_count": 22,
   "metadata": {
    "colab": {
     "base_uri": "https://localhost:8080/"
    },
    "id": "1qIKy-CxbsqH",
    "outputId": "71e640ff-f703-4f5b-e73d-e27706178e97"
   },
   "outputs": [
    {
     "name": "stdout",
     "output_type": "stream",
     "text": [
      "\n",
      "5.2 Handling Missing Values:\n",
      "------------------------------\n",
      "Original shape: (891, 12)\n",
      "After dropping all NAs: (183, 12)\n"
     ]
    }
   ],
   "source": [
    "print(\"\\n5.2 Handling Missing Values:\")\n",
    "print(\"-\" * 30)\n",
    "\n",
    "# Create a copy for cleaning\n",
    "titanic_clean = titanic.copy()\n",
    "\n",
    "# Method 1: Drop rows with missing values\n",
    "print(f\"Original shape: {titanic_clean.shape}\")\n",
    "titanic_no_na = titanic_clean.dropna()\n",
    "print(f\"After dropping all NAs: {titanic_no_na.shape}\")"
   ]
  },
  {
   "cell_type": "code",
   "execution_count": 23,
   "metadata": {
    "colab": {
     "base_uri": "https://localhost:8080/"
    },
    "id": "6McHoWP1b2pP",
    "outputId": "aa09caf9-4c95-42e2-865a-93f0086614b1"
   },
   "outputs": [
    {
     "name": "stdout",
     "output_type": "stream",
     "text": [
      "After dropping columns with NAs: (891, 9)\n"
     ]
    }
   ],
   "source": [
    "# Method 2: Drop specific columns with missing values\n",
    "titanic_drop_cols = titanic_clean.dropna(axis=1)\n",
    "print(f\"After dropping columns with NAs: {titanic_drop_cols.shape}\")"
   ]
  },
  {
   "cell_type": "code",
   "execution_count": 24,
   "metadata": {
    "colab": {
     "base_uri": "https://localhost:8080/"
    },
    "id": "-0BYLcQ_cUsS",
    "outputId": "76f4dcee-6340-429b-f537-321d6788e2dc"
   },
   "outputs": [
    {
     "name": "stdout",
     "output_type": "stream",
     "text": [
      "Filled missing ages with median: 28.0\n"
     ]
    },
    {
     "name": "stderr",
     "output_type": "stream",
     "text": [
      "/tmp/ipykernel_40016/3511430015.py:5: FutureWarning: A value is trying to be set on a copy of a DataFrame or Series through chained assignment using an inplace method.\n",
      "The behavior will change in pandas 3.0. This inplace method will never work because the intermediate object on which we are setting values always behaves as a copy.\n",
      "\n",
      "For example, when doing 'df[col].method(value, inplace=True)', try using 'df.method({col: value}, inplace=True)' or df[col] = df[col].method(value) instead, to perform the operation inplace on the original object.\n",
      "\n",
      "\n",
      "  titanic_clean['Age'].fillna(median_age, inplace=True)\n"
     ]
    }
   ],
   "source": [
    "# Method 3: Fill missing values\n",
    "# Fill numerical missing values with median\n",
    "if 'Age' in titanic_clean.columns:\n",
    "    median_age = titanic_clean['Age'].median()\n",
    "    titanic_clean['Age'].fillna(median_age, inplace=True)\n",
    "    print(f\"Filled missing ages with median: {median_age:.1f}\")"
   ]
  },
  {
   "cell_type": "code",
   "execution_count": 25,
   "metadata": {
    "colab": {
     "base_uri": "https://localhost:8080/"
    },
    "id": "YeU-OwuPdnSA",
    "outputId": "81f61dbd-7029-4dc0-d517-f54695f77f20"
   },
   "outputs": [
    {
     "name": "stdout",
     "output_type": "stream",
     "text": [
      "Filled missing embarked with mode: S\n"
     ]
    },
    {
     "name": "stderr",
     "output_type": "stream",
     "text": [
      "/tmp/ipykernel_40016/3985066062.py:4: FutureWarning: A value is trying to be set on a copy of a DataFrame or Series through chained assignment using an inplace method.\n",
      "The behavior will change in pandas 3.0. This inplace method will never work because the intermediate object on which we are setting values always behaves as a copy.\n",
      "\n",
      "For example, when doing 'df[col].method(value, inplace=True)', try using 'df.method({col: value}, inplace=True)' or df[col] = df[col].method(value) instead, to perform the operation inplace on the original object.\n",
      "\n",
      "\n",
      "  titanic_clean['Embarked'].fillna(mode_embarked, inplace=True)\n"
     ]
    }
   ],
   "source": [
    "# Fill categorical missing values with mode\n",
    "if 'Embarked' in titanic_clean.columns:\n",
    "    mode_embarked = titanic_clean['Embarked'].mode()[0]\n",
    "    titanic_clean['Embarked'].fillna(mode_embarked, inplace=True)\n",
    "    print(f\"Filled missing embarked with mode: {mode_embarked}\")\n"
   ]
  },
  {
   "cell_type": "code",
   "execution_count": 26,
   "metadata": {
    "colab": {
     "base_uri": "https://localhost:8080/"
    },
    "id": "A28mWwX0dqTF",
    "outputId": "fe84e945-bdf4-4c34-af26-cc51c03a0d41"
   },
   "outputs": [
    {
     "name": "stdout",
     "output_type": "stream",
     "text": [
      "\n",
      "Missing values after cleaning: PassengerId      0\n",
      "Survived         0\n",
      "Pclass           0\n",
      "Name             0\n",
      "Sex              0\n",
      "Age              0\n",
      "SibSp            0\n",
      "Parch            0\n",
      "Ticket           0\n",
      "Fare             0\n",
      "Cabin          687\n",
      "Embarked         0\n",
      "dtype: int64\n"
     ]
    }
   ],
   "source": [
    "# Check missing values after cleaning\n",
    "print(f\"\\nMissing values after cleaning: {titanic_clean.isnull().sum()}\")"
   ]
  },
  {
   "cell_type": "markdown",
   "metadata": {
    "id": "dRi4wyskeTRA"
   },
   "source": [
    "# =====================================================\n",
    "# 6. DATA FILTERING AND QUERYING\n",
    "# =====================================================\n"
   ]
  },
  {
   "cell_type": "code",
   "execution_count": 27,
   "metadata": {
    "colab": {
     "base_uri": "https://localhost:8080/"
    },
    "id": "IjQpdZrZeyaF",
    "outputId": "2bf5c22f-434f-4c2d-a32c-62044cb447cc"
   },
   "outputs": [
    {
     "name": "stdout",
     "output_type": "stream",
     "text": [
      "6. DATA FILTERING AND QUERYING\n",
      "\n",
      "6.1 Basic Filtering:\n",
      "Number of adults (Age >= 18): 778\n"
     ]
    }
   ],
   "source": [
    "print(\"6. DATA FILTERING AND QUERYING\")\n",
    "\n",
    "print(\"\\n6.1 Basic Filtering:\")\n",
    "\n",
    "# Single condition\n",
    "adults = titanic_clean[titanic_clean['Age'] >= 18]\n",
    "print(f\"Number of adults (Age >= 18): {len(adults)}\")"
   ]
  },
  {
   "cell_type": "code",
   "execution_count": 28,
   "metadata": {
    "colab": {
     "base_uri": "https://localhost:8080/"
    },
    "id": "Ax8sh5v7e7eJ",
    "outputId": "9eefc692-dc0d-461c-d853-32002bcf1b22"
   },
   "outputs": [
    {
     "name": "stdout",
     "output_type": "stream",
     "text": [
      "First 3 adult passengers:\n",
      "    Age     Sex  Survived\n",
      "0  22.0    male         0\n",
      "1  38.0  female         1\n",
      "2  26.0  female         1\n"
     ]
    }
   ],
   "source": [
    "# Display first few adult passengers\n",
    "print(\"First 3 adult passengers:\")\n",
    "print(adults[['Age', 'Sex', 'Survived']].head(3))\n"
   ]
  },
  {
   "cell_type": "code",
   "execution_count": 29,
   "metadata": {
    "colab": {
     "base_uri": "https://localhost:8080/"
    },
    "id": "tpoRWl9GfBNh",
    "outputId": "c166c5c2-2c93-424c-fab9-c16b510ac0d4"
   },
   "outputs": [
    {
     "name": "stdout",
     "output_type": "stream",
     "text": [
      "\n",
      "Young females (Age < 30): 200\n"
     ]
    }
   ],
   "source": [
    "# Multiple conditions using & (and) and | (or)\n",
    "\n",
    "young_females = titanic_clean[(titanic_clean['Age'] < 30) & (titanic_clean['Sex'] == 'female')]\n",
    "print(f\"\\nYoung females (Age < 30): {len(young_females)}\")\n"
   ]
  },
  {
   "cell_type": "code",
   "execution_count": 30,
   "metadata": {
    "colab": {
     "base_uri": "https://localhost:8080/"
    },
    "id": "9GsV2p7KfLpV",
    "outputId": "37003da2-8c18-4ce9-9710-c5d819a5208d"
   },
   "outputs": [
    {
     "name": "stdout",
     "output_type": "stream",
     "text": [
      "Luxury passengers (fare > 50 OR first class): 237\n"
     ]
    }
   ],
   "source": [
    "# High fare or first class\n",
    "luxury_passengers = titanic_clean[(titanic_clean['Fare'] > 50) | (titanic_clean['Pclass'] == 1)]\n",
    "print(f\"Luxury passengers (fare > 50 OR first class): {len(luxury_passengers)}\")\n"
   ]
  },
  {
   "cell_type": "code",
   "execution_count": 31,
   "metadata": {
    "colab": {
     "base_uri": "https://localhost:8080/"
    },
    "id": "4PvrtEH0flVu",
    "outputId": "2e19d57b-4716-4577-8343-31eeb6c59294"
   },
   "outputs": [
    {
     "name": "stdout",
     "output_type": "stream",
     "text": [
      "\n",
      "6.2 Using isin() Method:\n",
      "------------------------------\n",
      "Passengers from European ports (C, S): 814\n"
     ]
    }
   ],
   "source": [
    "print(\"\\n6.2 Using isin() Method:\")\n",
    "print(\"-\" * 30)\n",
    "\n",
    "# Filter using isin()\n",
    "european_ports = titanic_clean[titanic_clean['Embarked'].isin(['C', 'S'])]\n",
    "print(f\"Passengers from European ports (C, S): {len(european_ports)}\")"
   ]
  },
  {
   "cell_type": "code",
   "execution_count": 32,
   "metadata": {
    "colab": {
     "base_uri": "https://localhost:8080/"
    },
    "id": "MrCTxaGfi6bk",
    "outputId": "dbd3b6b1-c7d0-49e7-ab7f-38b42218330f"
   },
   "outputs": [
    {
     "name": "stdout",
     "output_type": "stream",
     "text": [
      "\n",
      "6.3 Query Method:\n",
      "------------------------------\n",
      "Passengers with age > 30 and fare < 20: 133\n",
      "Female survivors: 233\n"
     ]
    }
   ],
   "source": [
    "print(\"\\n6.3 Query Method:\")\n",
    "print(\"-\" * 30)\n",
    "\n",
    "# Using query method for complex conditions\n",
    "query_result = titanic_clean.query('Age > 30 and Fare < 20')\n",
    "print(f\"Passengers with age > 30 and fare < 20: {len(query_result)}\")\n",
    "\n",
    "# Query with string conditions\n",
    "if 'Sex' in titanic_clean.columns:\n",
    "    female_survivors = titanic_clean.query('Sex == \"female\" and Survived == 1')\n",
    "    print(f\"Female survivors: {len(female_survivors)}\")"
   ]
  },
  {
   "cell_type": "code",
   "execution_count": 33,
   "metadata": {
    "colab": {
     "base_uri": "https://localhost:8080/"
    },
    "id": "rYBvW_7Y2DNx",
    "outputId": "6264790b-1520-4139-e0fe-7f9b1a0efa2f"
   },
   "outputs": [
    {
     "name": "stdout",
     "output_type": "stream",
     "text": [
      "\n",
      "============================================================\n",
      "7. DATA AGGREGATION AND GROUPING\n",
      "============================================================\n",
      "\n",
      "7.1 Basic Aggregations:\n",
      "------------------------------\n",
      "Mean age: 29.4\n",
      "Median age: 28.0\n",
      "Standard deviation of age: 13.0\n",
      "Average fare: $32.20\n",
      "Maximum fare: $512.33\n"
     ]
    }
   ],
   "source": [
    "# =============================================================================\n",
    "# 7. DATA AGGREGATION AND GROUPING\n",
    "# =============================================================================\n",
    "\n",
    "print(\"\\n\" + \"=\"*60)\n",
    "print(\"7. DATA AGGREGATION AND GROUPING\")\n",
    "print(\"=\"*60)\n",
    "\n",
    "print(\"\\n7.1 Basic Aggregations:\")\n",
    "print(\"-\" * 30)\n",
    "\n",
    "# Basic statistics\n",
    "if 'Age' in titanic_clean.columns:\n",
    "    print(f\"Mean age: {titanic_clean['Age'].mean():.1f}\")\n",
    "    print(f\"Median age: {titanic_clean['Age'].median():.1f}\")\n",
    "    print(f\"Standard deviation of age: {titanic_clean['Age'].std():.1f}\")\n",
    "\n",
    "if 'Fare' in titanic_clean.columns:\n",
    "    print(f\"Average fare: ${titanic_clean['Fare'].mean():.2f}\")\n",
    "    print(f\"Maximum fare: ${titanic_clean['Fare'].max():.2f}\")"
   ]
  },
  {
   "cell_type": "code",
   "execution_count": 34,
   "metadata": {
    "colab": {
     "base_uri": "https://localhost:8080/"
    },
    "id": "TFjxj3fb2DSr",
    "outputId": "2755effe-cb4b-4c17-9377-4221031c1745"
   },
   "outputs": [
    {
     "name": "stdout",
     "output_type": "stream",
     "text": [
      "\n",
      "7.2 Value Counts:\n",
      "------------------------------\n",
      "Sex distribution:\n",
      "Sex\n",
      "male      577\n",
      "female    314\n",
      "Name: count, dtype: int64\n",
      "\n",
      "Class distribution:\n",
      "Pclass\n",
      "1    216\n",
      "2    184\n",
      "3    491\n",
      "Name: count, dtype: int64\n",
      "\n",
      "Survival rate:\n",
      "Survived\n",
      "0    0.616162\n",
      "1    0.383838\n",
      "Name: proportion, dtype: float64\n"
     ]
    }
   ],
   "source": [
    "print(\"\\n7.2 Value Counts:\")\n",
    "print(\"-\" * 30)\n",
    "\n",
    "# Count unique values\n",
    "if 'Sex' in titanic_clean.columns:\n",
    "    print(\"Sex distribution:\")\n",
    "    print(titanic_clean['Sex'].value_counts())\n",
    "\n",
    "if 'Pclass' in titanic_clean.columns:\n",
    "    print(\"\\nClass distribution:\")\n",
    "    print(titanic_clean['Pclass'].value_counts().sort_index())\n",
    "\n",
    "# Proportions\n",
    "if 'Survived' in titanic_clean.columns:\n",
    "    print(\"\\nSurvival rate:\")\n",
    "    survival_rate = titanic_clean['Survived'].value_counts(normalize=True)\n",
    "    print(survival_rate)"
   ]
  },
  {
   "cell_type": "code",
   "execution_count": 35,
   "metadata": {
    "colab": {
     "base_uri": "https://localhost:8080/"
    },
    "id": "XIxhNjL_2DVW",
    "outputId": "903eb58d-4fad-46ee-e25d-23970aff731e"
   },
   "outputs": [
    {
     "name": "stdout",
     "output_type": "stream",
     "text": [
      "\n",
      "7.3 GroupBy Operations:\n",
      "------------------------------\n",
      "Average age by sex:\n",
      "Sex\n",
      "female    27.929936\n",
      "male      30.140676\n",
      "Name: Age, dtype: float64\n",
      "\n",
      "Survival rate by sex and class:\n",
      "Sex     Pclass\n",
      "female  1         0.968085\n",
      "        2         0.921053\n",
      "        3         0.500000\n",
      "male    1         0.368852\n",
      "        2         0.157407\n",
      "        3         0.135447\n",
      "Name: Survived, dtype: float64\n"
     ]
    }
   ],
   "source": [
    "print(\"\\n7.3 GroupBy Operations:\")\n",
    "print(\"-\" * 30)\n",
    "\n",
    "# Group by single column\n",
    "if 'Sex' in titanic_clean.columns and 'Age' in titanic_clean.columns:\n",
    "    age_by_sex = titanic_clean.groupby('Sex')['Age'].mean()\n",
    "    print(\"Average age by sex:\")\n",
    "    print(age_by_sex)\n",
    "\n",
    "# Group by multiple columns\n",
    "if 'Sex' in titanic_clean.columns and 'Pclass' in titanic_clean.columns:\n",
    "    survival_by_sex_class = titanic_clean.groupby(['Sex', 'Pclass'])['Survived'].mean()\n",
    "    print(\"\\nSurvival rate by sex and class:\")\n",
    "    print(survival_by_sex_class)"
   ]
  },
  {
   "cell_type": "code",
   "execution_count": 36,
   "metadata": {
    "colab": {
     "base_uri": "https://localhost:8080/"
    },
    "id": "cbGC7tos2zlD",
    "outputId": "b5664b34-e169-4eeb-c509-3910378bc2f9"
   },
   "outputs": [
    {
     "name": "stdout",
     "output_type": "stream",
     "text": [
      "\n",
      "7.4 Multiple Aggregation Functions:\n",
      "------------------------------\n",
      "Fare statistics by class:\n",
      "             mean   median        std  count\n",
      "Pclass                                      \n",
      "1       84.154687  60.2875  78.380373    216\n",
      "2       20.662183  14.2500  13.417399    184\n",
      "3       13.675550   8.0500  11.778142    491\n"
     ]
    }
   ],
   "source": [
    "# Multiple aggregations\n",
    "print(\"\\n7.4 Multiple Aggregation Functions:\")\n",
    "print(\"-\" * 30)\n",
    "\n",
    "if 'Fare' in titanic_clean.columns and 'Pclass' in titanic_clean.columns:\n",
    "    fare_stats = titanic_clean.groupby('Pclass')['Fare'].agg(['mean', 'median', 'std', 'count'])\n",
    "    print(\"Fare statistics by class:\")\n",
    "    print(fare_stats)"
   ]
  },
  {
   "cell_type": "code",
   "execution_count": 37,
   "metadata": {
    "colab": {
     "base_uri": "https://localhost:8080/"
    },
    "id": "M6nhrHIL21Ne",
    "outputId": "813ad04b-925d-4835-ab31-be81f9d86557"
   },
   "outputs": [
    {
     "name": "stdout",
     "output_type": "stream",
     "text": [
      "\n",
      "============================================================\n",
      "8. DATA MERGING AND JOINING\n",
      "============================================================\n",
      "\n",
      "8.1 Creating Sample Data for Merging:\n",
      "------------------------------\n",
      "Passenger Details:\n",
      "   passenger_id           name  ticket_class\n",
      "0             1  Alice Johnson             1\n",
      "1             2      Bob Smith             2\n",
      "2             3  Charlie Brown             3\n",
      "3             4   Diana Prince             1\n",
      "4             5     Eve Wilson             2\n",
      "\n",
      "Ticket Information:\n",
      "   passenger_id ticket_number  fare_paid\n",
      "0             1          A123        100\n",
      "1             2          B456         75\n",
      "2             3          C789         50\n",
      "3             6          D012        120\n",
      "4             7          E345         80\n"
     ]
    }
   ],
   "source": [
    "# =============================================================================\n",
    "# 8. DATA MERGING AND JOINING\n",
    "# =============================================================================\n",
    "\n",
    "print(\"\\n\" + \"=\"*60)\n",
    "print(\"8. DATA MERGING AND JOINING\")\n",
    "print(\"=\"*60)\n",
    "\n",
    "# Create sample datasets for merging\n",
    "print(\"\\n8.1 Creating Sample Data for Merging:\")\n",
    "print(\"-\" * 30)\n",
    "\n",
    "# Passenger details\n",
    "passenger_details = pd.DataFrame({\n",
    "    'passenger_id': [1, 2, 3, 4, 5],\n",
    "    'name': ['Alice Johnson', 'Bob Smith', 'Charlie Brown', 'Diana Prince', 'Eve Wilson'],\n",
    "    'ticket_class': [1, 2, 3, 1, 2]\n",
    "})\n",
    "\n",
    "# Ticket information\n",
    "ticket_info = pd.DataFrame({\n",
    "    'passenger_id': [1, 2, 3, 6, 7],\n",
    "    'ticket_number': ['A123', 'B456', 'C789', 'D012', 'E345'],\n",
    "    'fare_paid': [100, 75, 50, 120, 80]\n",
    "})\n",
    "\n",
    "print(\"Passenger Details:\")\n",
    "print(passenger_details)\n",
    "print(\"\\nTicket Information:\")\n",
    "print(ticket_info)"
   ]
  },
  {
   "cell_type": "code",
   "execution_count": 38,
   "metadata": {
    "colab": {
     "base_uri": "https://localhost:8080/"
    },
    "id": "KJTbeJP621Ri",
    "outputId": "647c370c-18ba-4bed-b991-0ba9d620d86c"
   },
   "outputs": [
    {
     "name": "stdout",
     "output_type": "stream",
     "text": [
      "\n",
      "8.2 Different Types of Merges:\n",
      "------------------------------\n",
      "Inner Join (only matching records):\n",
      "   passenger_id           name  ticket_class ticket_number  fare_paid\n",
      "0             1  Alice Johnson             1          A123        100\n",
      "1             2      Bob Smith             2          B456         75\n",
      "2             3  Charlie Brown             3          C789         50\n",
      "\n",
      "Left Join (all records from left table):\n",
      "   passenger_id           name  ticket_class ticket_number  fare_paid\n",
      "0             1  Alice Johnson             1          A123      100.0\n",
      "1             2      Bob Smith             2          B456       75.0\n",
      "2             3  Charlie Brown             3          C789       50.0\n",
      "3             4   Diana Prince             1           NaN        NaN\n",
      "4             5     Eve Wilson             2           NaN        NaN\n",
      "\n",
      "Right Join (all records from right table):\n",
      "   passenger_id           name  ticket_class ticket_number  fare_paid\n",
      "0             1  Alice Johnson           1.0          A123        100\n",
      "1             2      Bob Smith           2.0          B456         75\n",
      "2             3  Charlie Brown           3.0          C789         50\n",
      "3             6            NaN           NaN          D012        120\n",
      "4             7            NaN           NaN          E345         80\n",
      "\n",
      "Outer Join (all records from both tables):\n",
      "   passenger_id           name  ticket_class ticket_number  fare_paid\n",
      "0             1  Alice Johnson           1.0          A123      100.0\n",
      "1             2      Bob Smith           2.0          B456       75.0\n",
      "2             3  Charlie Brown           3.0          C789       50.0\n",
      "3             4   Diana Prince           1.0           NaN        NaN\n",
      "4             5     Eve Wilson           2.0           NaN        NaN\n",
      "5             6            NaN           NaN          D012      120.0\n",
      "6             7            NaN           NaN          E345       80.0\n"
     ]
    }
   ],
   "source": [
    "print(\"\\n8.2 Different Types of Merges:\")\n",
    "print(\"-\" * 30)\n",
    "\n",
    "# Inner join (default)\n",
    "inner_merge = pd.merge(passenger_details, ticket_info, on='passenger_id')\n",
    "print(\"Inner Join (only matching records):\")\n",
    "print(inner_merge)\n",
    "\n",
    "# Left join\n",
    "left_merge = pd.merge(passenger_details, ticket_info, on='passenger_id', how='left')\n",
    "print(\"\\nLeft Join (all records from left table):\")\n",
    "print(left_merge)\n",
    "\n",
    "# Right join\n",
    "right_merge = pd.merge(passenger_details, ticket_info, on='passenger_id', how='right')\n",
    "print(\"\\nRight Join (all records from right table):\")\n",
    "print(right_merge)\n",
    "\n",
    "# Outer join\n",
    "outer_merge = pd.merge(passenger_details, ticket_info, on='passenger_id', how='outer')\n",
    "print(\"\\nOuter Join (all records from both tables):\")\n",
    "print(outer_merge)"
   ]
  },
  {
   "cell_type": "code",
   "execution_count": 39,
   "metadata": {
    "colab": {
     "base_uri": "https://localhost:8080/"
    },
    "id": "WiBZCMe-21UP",
    "outputId": "8f2f57d7-86ef-4039-c7a0-e4c8e07dd338"
   },
   "outputs": [
    {
     "name": "stdout",
     "output_type": "stream",
     "text": [
      "\n",
      "8.3 Merge with Different Column Names:\n",
      "------------------------------\n",
      "Merge with different column names:\n",
      "   id passenger_name  passenger_id booking_date\n",
      "0   1          Alice             1   2024-01-01\n",
      "1   2            Bob             2   2024-01-02\n"
     ]
    }
   ],
   "source": [
    "print(\"\\n8.3 Merge with Different Column Names:\")\n",
    "print(\"-\" * 30)\n",
    "\n",
    "# Create data with different column names\n",
    "passenger_info = pd.DataFrame({\n",
    "    'id': [1, 2, 3],\n",
    "    'passenger_name': ['Alice', 'Bob', 'Charlie']\n",
    "})\n",
    "\n",
    "booking_info = pd.DataFrame({\n",
    "    'passenger_id': [1, 2, 4],\n",
    "    'booking_date': ['2024-01-01', '2024-01-02', '2024-01-03']\n",
    "})\n",
    "\n",
    "# Merge with different column names\n",
    "merge_diff_names = pd.merge(passenger_info, booking_info,\n",
    "                          left_on='id', right_on='passenger_id', how='inner')\n",
    "print(\"Merge with different column names:\")\n",
    "print(merge_diff_names)"
   ]
  },
  {
   "cell_type": "code",
   "execution_count": 40,
   "metadata": {
    "colab": {
     "base_uri": "https://localhost:8080/"
    },
    "id": "X29URpJM21W6",
    "outputId": "6e7ae99a-829b-4f7f-af45-af17205bddc9"
   },
   "outputs": [
    {
     "name": "stdout",
     "output_type": "stream",
     "text": [
      "\n",
      "8.4 Concatenation:\n",
      "------------------------------\n",
      "Vertical concatenation:\n",
      "   A  B\n",
      "0  1  3\n",
      "1  2  4\n",
      "2  5  7\n",
      "3  6  8\n",
      "\n",
      "Horizontal concatenation:\n",
      "   A  B  A  B\n",
      "0  1  3  5  7\n",
      "1  2  4  6  8\n"
     ]
    }
   ],
   "source": [
    "print(\"\\n8.4 Concatenation:\")\n",
    "print(\"-\" * 30)\n",
    "\n",
    "# Concatenate DataFrames vertically\n",
    "df1 = pd.DataFrame({'A': [1, 2], 'B': [3, 4]})\n",
    "df2 = pd.DataFrame({'A': [5, 6], 'B': [7, 8]})\n",
    "\n",
    "concat_vertical = pd.concat([df1, df2], ignore_index=True)\n",
    "print(\"Vertical concatenation:\")\n",
    "print(concat_vertical)\n",
    "\n",
    "# Concatenate horizontally\n",
    "concat_horizontal = pd.concat([df1, df2], axis=1)\n",
    "print(\"\\nHorizontal concatenation:\")\n",
    "print(concat_horizontal)"
   ]
  },
  {
   "cell_type": "code",
   "execution_count": 41,
   "metadata": {
    "colab": {
     "base_uri": "https://localhost:8080/"
    },
    "id": "oG-bNiUpLwgz",
    "outputId": "869062b2-f091-4cca-8f97-9b8c01b3553c"
   },
   "outputs": [
    {
     "name": "stdout",
     "output_type": "stream",
     "text": [
      "\n",
      "============================================================\n",
      "9. PIVOT TABLES AND RESHAPING\n",
      "============================================================\n",
      "\n",
      "9.1 Pivot Tables:\n",
      "------------------------------\n",
      "Survival rate by sex and class (Pivot Table):\n",
      "Pclass         1         2         3\n",
      "Sex                                 \n",
      "female  0.968085  0.921053  0.500000\n",
      "male    0.368852  0.157407  0.135447\n"
     ]
    }
   ],
   "source": [
    "# =============================================================================\n",
    "# 9. PIVOT TABLES AND RESHAPING\n",
    "# =============================================================================\n",
    "\n",
    "print(\"\\n\" + \"=\"*60)\n",
    "print(\"9. PIVOT TABLES AND RESHAPING\")\n",
    "print(\"=\"*60)\n",
    "\n",
    "print(\"\\n9.1 Pivot Tables:\")\n",
    "print(\"-\" * 30)\n",
    "\n",
    "# Create a pivot table\n",
    "if 'Sex' in titanic_clean.columns and 'Pclass' in titanic_clean.columns and 'Survived' in titanic_clean.columns:\n",
    "    pivot_survival = pd.pivot_table(\n",
    "        titanic_clean,\n",
    "        values='Survived',\n",
    "        index='Sex',\n",
    "        columns='Pclass',\n",
    "        aggfunc='mean',\n",
    "        fill_value=0\n",
    "    )\n",
    "    print(\"Survival rate by sex and class (Pivot Table):\")\n",
    "    print(pivot_survival)\n"
   ]
  },
  {
   "cell_type": "code",
   "execution_count": 42,
   "metadata": {
    "colab": {
     "base_uri": "https://localhost:8080/"
    },
    "id": "ALUmoyHw3Gpy",
    "outputId": "ce9c2fac-87e9-476b-e4ce-7716de43d994"
   },
   "outputs": [
    {
     "name": "stdout",
     "output_type": "stream",
     "text": [
      "\n",
      "Age and Fare by sex and class:\n",
      "              Age                              Fare                      \n",
      "Pclass          1          2          3           1          2          3\n",
      "Sex                                                                      \n",
      "female  33.978723  28.703947  23.572917  106.125798  21.970121  16.118810\n",
      "male    38.995246  30.512315  26.911873   67.226127  19.741782  12.661633\n"
     ]
    }
   ],
   "source": [
    "\n",
    "# Pivot table with multiple values\n",
    "if 'Age' in titanic_clean.columns and 'Fare' in titanic_clean.columns:\n",
    "    pivot_multiple = pd.pivot_table(\n",
    "        titanic_clean,\n",
    "        values=['Age', 'Fare'],\n",
    "        index='Sex',\n",
    "        columns='Pclass',\n",
    "        aggfunc='mean',\n",
    "        fill_value=0\n",
    "    )\n",
    "    print(\"\\nAge and Fare by sex and class:\")\n",
    "    print(pivot_multiple)"
   ]
  },
  {
   "cell_type": "code",
   "execution_count": 43,
   "metadata": {
    "colab": {
     "base_uri": "https://localhost:8080/"
    },
    "id": "W_6oiE5C3Gye",
    "outputId": "c5eda9e3-0796-47ec-bfe6-b76e81c08a5e"
   },
   "outputs": [
    {
     "name": "stdout",
     "output_type": "stream",
     "text": [
      "\n",
      "============================================================\n",
      "10. ADVANCED OPERATIONS\n",
      "============================================================\n",
      "\n",
      "10.1 Index Operations:\n",
      "------------------------------\n",
      "Shape after setting age as index: (891, 11)\n",
      "First few rows with age as index:\n",
      "      PassengerId  Survived  Pclass  \\\n",
      "Age                                   \n",
      "22.0            1         0       3   \n",
      "38.0            2         1       1   \n",
      "26.0            3         1       3   \n",
      "\n",
      "                                                   Name     Sex  SibSp  Parch  \\\n",
      "Age                                                                             \n",
      "22.0                            Braund, Mr. Owen Harris    male      1      0   \n",
      "38.0  Cumings, Mrs. John Bradley (Florence Briggs Th...  female      1      0   \n",
      "26.0                             Heikkinen, Miss. Laina  female      0      0   \n",
      "\n",
      "                Ticket     Fare Cabin Embarked  \n",
      "Age                                             \n",
      "22.0         A/5 21171   7.2500   NaN        S  \n",
      "38.0          PC 17599  71.2833   C85        C  \n",
      "26.0  STON/O2. 3101282   7.9250   NaN        S  \n",
      "\n",
      "Shape after resetting index: (891, 12)\n"
     ]
    }
   ],
   "source": [
    "# =============================================================================\n",
    "# 10. ADVANCED OPERATIONS\n",
    "# =============================================================================\n",
    "\n",
    "print(\"\\n\" + \"=\"*60)\n",
    "print(\"10. ADVANCED OPERATIONS\")\n",
    "print(\"=\"*60)\n",
    "\n",
    "print(\"\\n10.1 Index Operations:\")\n",
    "print(\"-\" * 30)\n",
    "\n",
    "# Set index\n",
    "if 'Age' in titanic_clean.columns:\n",
    "    df_with_index = titanic_clean.copy()\n",
    "    df_with_index = df_with_index.set_index('Age')\n",
    "    print(f\"Shape after setting age as index: {df_with_index.shape}\")\n",
    "    print(\"First few rows with age as index:\")\n",
    "    print(df_with_index.head(3))\n",
    "\n",
    "    # Reset index\n",
    "    df_reset = df_with_index.reset_index()\n",
    "    print(f\"\\nShape after resetting index: {df_reset.shape}\")"
   ]
  },
  {
   "cell_type": "code",
   "execution_count": 44,
   "metadata": {
    "colab": {
     "base_uri": "https://localhost:8080/"
    },
    "id": "MbfU6IBB3G2p",
    "outputId": "57fc506f-1b2a-41ca-f29e-caadf030ab4c"
   },
   "outputs": [
    {
     "name": "stdout",
     "output_type": "stream",
     "text": [
      "\n",
      "10.2 Apply Lambda Functions:\n",
      "------------------------------\n",
      "Age group distribution:\n",
      "Age_group\n",
      "Adult     752\n",
      "Child     113\n",
      "Senior     26\n",
      "Name: count, dtype: int64\n",
      "\n",
      "Class name distribution:\n",
      "class_name\n",
      "Third Class     491\n",
      "First Class     216\n",
      "Second Class    184\n",
      "Name: count, dtype: int64\n"
     ]
    }
   ],
   "source": [
    "print(\"\\n10.2 Apply Lambda Functions:\")\n",
    "print(\"-\" * 30)\n",
    "\n",
    "# Apply function to create new columns\n",
    "if 'Age' in titanic_clean.columns:\n",
    "    titanic_clean['Age_group'] = titanic_clean['Age'].apply(\n",
    "        lambda x: 'Child' if x < 18 else ('Adult' if x < 60 else 'Senior')\n",
    "    )\n",
    "\n",
    "    print(\"Age group distribution:\")\n",
    "    print(titanic_clean['Age_group'].value_counts())\n",
    "\n",
    "# Apply function to multiple columns\n",
    "def categorize_passenger(row):\n",
    "    if row['Pclass'] == 1:\n",
    "        return 'First Class'\n",
    "    elif row['Pclass'] == 2:\n",
    "        return 'Second Class'\n",
    "    else:\n",
    "        return 'Third Class'\n",
    "\n",
    "titanic_clean['class_name'] = titanic_clean.apply(categorize_passenger, axis=1)\n",
    "print(\"\\nClass name distribution:\")\n",
    "print(titanic_clean['class_name'].value_counts())"
   ]
  },
  {
   "cell_type": "code",
   "execution_count": 45,
   "metadata": {
    "colab": {
     "base_uri": "https://localhost:8080/"
    },
    "id": "ea-XDBX14Bzs",
    "outputId": "ae787ad6-a5d7-4d38-dd10-4d72f9c73a3a"
   },
   "outputs": [
    {
     "name": "stdout",
     "output_type": "stream",
     "text": [
      "\n",
      "10.3 Working with Dates:\n",
      "------------------------------\n",
      "Sample date data:\n",
      "        date     value\n",
      "0 2024-01-01  0.383791\n",
      "1 2024-01-02 -0.015432\n",
      "2 2024-01-03  0.581278\n",
      "3 2024-01-04 -0.298356\n",
      "4 2024-01-05  1.419236\n",
      "\n",
      "Date with extracted components:\n",
      "        date  year  month  dayofweek weekday_name\n",
      "0 2024-01-01  2024      1          0       Monday\n",
      "1 2024-01-02  2024      1          1      Tuesday\n",
      "2 2024-01-03  2024      1          2    Wednesday\n",
      "3 2024-01-04  2024      1          3     Thursday\n",
      "4 2024-01-05  2024      1          4       Friday\n"
     ]
    }
   ],
   "source": [
    "print(\"\\n10.3 Working with Dates:\")\n",
    "print(\"-\" * 30)\n",
    "\n",
    "# Create sample date data\n",
    "date_range = pd.date_range(start='2024-01-01', end='2024-01-10', freq='D')\n",
    "date_df = pd.DataFrame({\n",
    "    'date': date_range,\n",
    "    'value': np.random.randn(len(date_range))\n",
    "})\n",
    "\n",
    "print(\"Sample date data:\")\n",
    "print(date_df.head())\n",
    "\n",
    "# Extract date components\n",
    "date_df['year'] = date_df['date'].dt.year\n",
    "date_df['month'] = date_df['date'].dt.month\n",
    "date_df['dayofweek'] = date_df['date'].dt.dayofweek\n",
    "date_df['weekday_name'] = date_df['date'].dt.day_name()\n",
    "\n",
    "print(\"\\nDate with extracted components:\")\n",
    "print(date_df[['date', 'year', 'month', 'dayofweek', 'weekday_name']].head())"
   ]
  },
  {
   "cell_type": "code",
   "execution_count": 46,
   "metadata": {
    "colab": {
     "base_uri": "https://localhost:8080/"
    },
    "id": "D5xXzZAA4F1g",
    "outputId": "f034ee67-160b-4dee-d250-9dd06a977fb1"
   },
   "outputs": [
    {
     "name": "stdout",
     "output_type": "stream",
     "text": [
      "\n",
      "10.4 Data Validation and Quality Checks:\n",
      "------------------------------\n",
      "Number of duplicate rows: 0\n",
      "Invalid ages (< 0 or > 150): 0\n",
      "\n",
      "Dataset memory usage: 428.40 KB\n"
     ]
    }
   ],
   "source": [
    "print(\"\\n10.4 Data Validation and Quality Checks:\")\n",
    "print(\"-\" * 30)\n",
    "\n",
    "# Check for duplicates\n",
    "duplicates = titanic_clean.duplicated().sum()\n",
    "print(f\"Number of duplicate rows: {duplicates}\")\n",
    "\n",
    "# Check data ranges\n",
    "if 'Age' in titanic_clean.columns:\n",
    "    invalid_ages = titanic_clean[(titanic_clean['Age'] < 0) | (titanic_clean['Age'] > 150)]\n",
    "    print(f\"Invalid ages (< 0 or > 150): {len(invalid_ages)}\")\n",
    "\n",
    "# Memory usage\n",
    "print(f\"\\nDataset memory usage: {titanic_clean.memory_usage(deep=True).sum() / 1024:.2f} KB\")"
   ]
  },
  {
   "cell_type": "code",
   "execution_count": 47,
   "metadata": {
    "colab": {
     "base_uri": "https://localhost:8080/"
    },
    "id": "TJGwrB5YTYMG",
    "outputId": "eba938de-21a8-4ba2-9e7d-7e00274666a1"
   },
   "outputs": [
    {
     "name": "stdout",
     "output_type": "stream",
     "text": [
      "\n",
      "============================================================\n",
      "SUMMARY AND BEST PRACTICES\n",
      "============================================================\n",
      "\n",
      "Key Pandas Concepts Covered:\n",
      "1. Series and DataFrame creation and manipulation\n",
      "2. Data loading and exploration\n",
      "3. Data selection and indexing (iloc, loc)\n",
      "4. Missing value handling (dropna, fillna)\n",
      "5. Data filtering and querying (isin, query)\n",
      "6. Aggregation and grouping operations\n",
      "7. Data merging and joining\n",
      "8. Pivot tables and data reshaping\n",
      "9. Advanced operations (apply, dates)\n",
      "\n",
      "Next Steps:\n",
      "- Practice with different datasets\n",
      "\n",
      "\n",
      "Final cleaned dataset shape: (891, 14)\n",
      "Columns: ['PassengerId', 'Survived', 'Pclass', 'Name', 'Sex', 'Age', 'SibSp', 'Parch', 'Ticket', 'Fare', 'Cabin', 'Embarked', 'Age_group', 'class_name']\n",
      "\n",
      "Data cleaning complete! Dataset ready for analysis.\n"
     ]
    }
   ],
   "source": [
    "print(\"\\n\" + \"=\"*60)\n",
    "print(\"SUMMARY AND BEST PRACTICES\")\n",
    "print(\"=\"*60)\n",
    "\n",
    "print(\"\"\"\n",
    "Key Pandas Concepts Covered:\n",
    "1. Series and DataFrame creation and manipulation\n",
    "2. Data loading and exploration\n",
    "3. Data selection and indexing (iloc, loc)\n",
    "4. Missing value handling (dropna, fillna)\n",
    "5. Data filtering and querying (isin, query)\n",
    "6. Aggregation and grouping operations\n",
    "7. Data merging and joining\n",
    "8. Pivot tables and data reshaping\n",
    "9. Advanced operations (apply, dates)\n",
    "\n",
    "Next Steps:\n",
    "- Practice with different datasets\n",
    "\"\"\")\n",
    "\n",
    "# Final dataset summary\n",
    "print(f\"\\nFinal cleaned dataset shape: {titanic_clean.shape}\")\n",
    "print(f\"Columns: {titanic_clean.columns.tolist()}\")\n",
    "print(\"\\nData cleaning complete! Dataset ready for analysis.\")"
   ]
  },
  {
   "cell_type": "code",
   "execution_count": null,
   "metadata": {
    "id": "K7x5jhaViSH-"
   },
   "outputs": [],
   "source": []
  }
 ],
 "metadata": {
  "colab": {
   "provenance": []
  },
  "kernelspec": {
   "display_name": "ml-env",
   "language": "python",
   "name": "python3"
  },
  "language_info": {
   "codemirror_mode": {
    "name": "ipython",
    "version": 3
   },
   "file_extension": ".py",
   "mimetype": "text/x-python",
   "name": "python",
   "nbconvert_exporter": "python",
   "pygments_lexer": "ipython3",
   "version": "3.10.16"
  }
 },
 "nbformat": 4,
 "nbformat_minor": 4
}
